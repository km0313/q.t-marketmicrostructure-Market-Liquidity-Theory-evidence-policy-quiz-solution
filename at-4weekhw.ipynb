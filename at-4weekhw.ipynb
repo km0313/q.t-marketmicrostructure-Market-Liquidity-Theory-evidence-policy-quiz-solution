{
 "cells": [
  {
   "attachments": {},
   "cell_type": "markdown",
   "metadata": {},
   "source": [
    "![4week-1](https://github.com/km0313/q.t-marketmicrostructure-Market-Liquidity-Theory-evidence-policy-quiz-solution/blob/main/4week-1.jpg?raw=True)"
   ]
  },
  {
   "attachments": {},
   "cell_type": "markdown",
   "metadata": {},
   "source": [
    "![4week-2](https://github.com/km0313/q.t-marketmicrostructure-Market-Liquidity-Theory-evidence-policy-quiz-solution/blob/main/4week-2.jpg?raw=True)"
   ]
  },
  {
   "attachments": {},
   "cell_type": "markdown",
   "metadata": {},
   "source": [
    "problem 2번의 (b)(c)는 이해하지 못해서 풀지못했습니다;;"
   ]
  },
  {
   "cell_type": "markdown",
   "metadata": {},
   "source": []
  }
 ],
 "metadata": {
  "language_info": {
   "name": "python"
  },
  "orig_nbformat": 4
 },
 "nbformat": 4,
 "nbformat_minor": 2
}
