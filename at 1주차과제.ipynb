{
 "cells": [
  {
   "attachments": {},
   "cell_type": "markdown",
   "metadata": {},
   "source": [
    "![1주차1번](https://github.com/km0313/q.t-marketmicrostructure-Market-Liquidity-Theory-evidence-policy-quiz-solution/blob/main/1%EC%A3%BC%EC%B0%A81%EB%B2%88.jpg?raw=True)"
   ]
  },
  {
   "attachments": {},
   "cell_type": "markdown",
   "metadata": {},
   "source": [
    "![1주차2번](https://github.com/km0313/q.t-marketmicrostructure-Market-Liquidity-Theory-evidence-policy-quiz-solution/blob/main/1%EC%A3%BC%EC%B0%A82%EB%B2%88.jpg?raw=True)"
   ]
  },
  {
   "attachments": {},
   "cell_type": "markdown",
   "metadata": {},
   "source": [
    "![1주차2번-2](https://github.com/km0313/q.t-marketmicrostructure-Market-Liquidity-Theory-evidence-policy-quiz-solution/blob/main/1%EC%A3%BC%EC%B0%A82%EB%B2%88-2.jpg?raw=True)"
   ]
  },
  {
   "attachments": {},
   "cell_type": "markdown",
   "metadata": {},
   "source": [
    "![1주차4번](https://github.com/km0313/q.t-marketmicrostructure-Market-Liquidity-Theory-evidence-policy-quiz-solution/blob/main/1%EC%A3%BC%EC%B0%A84%EB%B2%88.jpg?raw=True)"
   ]
  },
  {
   "attachments": {},
   "cell_type": "markdown",
   "metadata": {},
   "source": [
    "![1주차4번-2](https://github.com/km0313/q.t-marketmicrostructure-Market-Liquidity-Theory-evidence-policy-quiz-solution/blob/main/1%EC%A3%BC%EC%B0%A84%EB%B2%88-2.jpg?raw=True)"
   ]
  },
  {
   "attachments": {},
   "cell_type": "markdown",
   "metadata": {},
   "source": [
    "1주차 5번"
   ]
  },
  {
   "cell_type": "code",
   "execution_count": 1,
   "metadata": {},
   "outputs": [],
   "source": [
    "import pandas as pd\n",
    "import numpy as np\n",
    "import openpyxl\n",
    "import xlrd\n"
   ]
  },
  {
   "cell_type": "code",
   "execution_count": 2,
   "metadata": {},
   "outputs": [
    {
     "data": {
      "text/html": [
       "<div>\n",
       "<style scoped>\n",
       "    .dataframe tbody tr th:only-of-type {\n",
       "        vertical-align: middle;\n",
       "    }\n",
       "\n",
       "    .dataframe tbody tr th {\n",
       "        vertical-align: top;\n",
       "    }\n",
       "\n",
       "    .dataframe thead th {\n",
       "        text-align: right;\n",
       "    }\n",
       "</style>\n",
       "<table border=\"1\" class=\"dataframe\">\n",
       "  <thead>\n",
       "    <tr style=\"text-align: right;\">\n",
       "      <th></th>\n",
       "      <th>Time</th>\n",
       "      <th>Trade Size (|qt|)</th>\n",
       "      <th>Price (pt)</th>\n",
       "      <th>Direction (dt)</th>\n",
       "      <th>Bid(bt)</th>\n",
       "      <th>Ask (at)</th>\n",
       "    </tr>\n",
       "  </thead>\n",
       "  <tbody>\n",
       "    <tr>\n",
       "      <th>0</th>\n",
       "      <td>09:06:04</td>\n",
       "      <td>20</td>\n",
       "      <td>66.70000</td>\n",
       "      <td>-1</td>\n",
       "      <td>66.90</td>\n",
       "      <td>67.00</td>\n",
       "    </tr>\n",
       "    <tr>\n",
       "      <th>1</th>\n",
       "      <td>09:06:11</td>\n",
       "      <td>25</td>\n",
       "      <td>66.63600</td>\n",
       "      <td>-1</td>\n",
       "      <td>66.65</td>\n",
       "      <td>66.70</td>\n",
       "    </tr>\n",
       "    <tr>\n",
       "      <th>2</th>\n",
       "      <td>09:06:26</td>\n",
       "      <td>18</td>\n",
       "      <td>66.60000</td>\n",
       "      <td>-1</td>\n",
       "      <td>66.60</td>\n",
       "      <td>66.65</td>\n",
       "    </tr>\n",
       "    <tr>\n",
       "      <th>3</th>\n",
       "      <td>09:07:18</td>\n",
       "      <td>273</td>\n",
       "      <td>66.41630</td>\n",
       "      <td>-1</td>\n",
       "      <td>66.50</td>\n",
       "      <td>66.55</td>\n",
       "    </tr>\n",
       "    <tr>\n",
       "      <th>4</th>\n",
       "      <td>09:07:36</td>\n",
       "      <td>27</td>\n",
       "      <td>66.55000</td>\n",
       "      <td>1</td>\n",
       "      <td>66.15</td>\n",
       "      <td>66.55</td>\n",
       "    </tr>\n",
       "    <tr>\n",
       "      <th>...</th>\n",
       "      <td>...</td>\n",
       "      <td>...</td>\n",
       "      <td>...</td>\n",
       "      <td>...</td>\n",
       "      <td>...</td>\n",
       "      <td>...</td>\n",
       "    </tr>\n",
       "    <tr>\n",
       "      <th>514</th>\n",
       "      <td>17:22:56</td>\n",
       "      <td>1000</td>\n",
       "      <td>66.74765</td>\n",
       "      <td>1</td>\n",
       "      <td>66.60</td>\n",
       "      <td>66.70</td>\n",
       "    </tr>\n",
       "    <tr>\n",
       "      <th>515</th>\n",
       "      <td>17:23:28</td>\n",
       "      <td>1500</td>\n",
       "      <td>66.65000</td>\n",
       "      <td>-1</td>\n",
       "      <td>66.60</td>\n",
       "      <td>66.75</td>\n",
       "    </tr>\n",
       "    <tr>\n",
       "      <th>516</th>\n",
       "      <td>17:24:48</td>\n",
       "      <td>47</td>\n",
       "      <td>66.75000</td>\n",
       "      <td>1</td>\n",
       "      <td>66.65</td>\n",
       "      <td>66.75</td>\n",
       "    </tr>\n",
       "    <tr>\n",
       "      <th>517</th>\n",
       "      <td>17:24:49</td>\n",
       "      <td>237</td>\n",
       "      <td>66.75000</td>\n",
       "      <td>1</td>\n",
       "      <td>66.65</td>\n",
       "      <td>66.75</td>\n",
       "    </tr>\n",
       "    <tr>\n",
       "      <th>518</th>\n",
       "      <td>17:24:59</td>\n",
       "      <td>237</td>\n",
       "      <td>66.75000</td>\n",
       "      <td>1</td>\n",
       "      <td>66.65</td>\n",
       "      <td>66.75</td>\n",
       "    </tr>\n",
       "  </tbody>\n",
       "</table>\n",
       "<p>519 rows × 6 columns</p>\n",
       "</div>"
      ],
      "text/plain": [
       "         Time  Trade Size (|qt|)  Price (pt)   Direction (dt)   Bid(bt)  \\\n",
       "0    09:06:04                 20     66.70000               -1    66.90   \n",
       "1    09:06:11                 25     66.63600               -1    66.65   \n",
       "2    09:06:26                 18     66.60000               -1    66.60   \n",
       "3    09:07:18                273     66.41630               -1    66.50   \n",
       "4    09:07:36                 27     66.55000                1    66.15   \n",
       "..        ...                ...          ...              ...      ...   \n",
       "514  17:22:56               1000     66.74765                1    66.60   \n",
       "515  17:23:28               1500     66.65000               -1    66.60   \n",
       "516  17:24:48                 47     66.75000                1    66.65   \n",
       "517  17:24:49                237     66.75000                1    66.65   \n",
       "518  17:24:59                237     66.75000                1    66.65   \n",
       "\n",
       "     Ask (at)  \n",
       "0       67.00  \n",
       "1       66.70  \n",
       "2       66.65  \n",
       "3       66.55  \n",
       "4       66.55  \n",
       "..        ...  \n",
       "514     66.70  \n",
       "515     66.75  \n",
       "516     66.75  \n",
       "517     66.75  \n",
       "518     66.75  \n",
       "\n",
       "[519 rows x 6 columns]"
      ]
     },
     "execution_count": 2,
     "metadata": {},
     "output_type": "execute_result"
    }
   ],
   "source": [
    "agf=pd.read_excel('DataSet/Data_Sets_Chapter_2_data_AGF.xls',header=0,skiprows=[0])\n",
    "agf"
   ]
  },
  {
   "cell_type": "code",
   "execution_count": 50,
   "metadata": {},
   "outputs": [],
   "source": [
    "agf.columns=(['time','qt','pt','dt','bt','at'])\n"
   ]
  },
  {
   "cell_type": "code",
   "execution_count": 51,
   "metadata": {},
   "outputs": [
    {
     "data": {
      "text/html": [
       "<div>\n",
       "<style scoped>\n",
       "    .dataframe tbody tr th:only-of-type {\n",
       "        vertical-align: middle;\n",
       "    }\n",
       "\n",
       "    .dataframe tbody tr th {\n",
       "        vertical-align: top;\n",
       "    }\n",
       "\n",
       "    .dataframe thead th {\n",
       "        text-align: right;\n",
       "    }\n",
       "</style>\n",
       "<table border=\"1\" class=\"dataframe\">\n",
       "  <thead>\n",
       "    <tr style=\"text-align: right;\">\n",
       "      <th></th>\n",
       "      <th>time</th>\n",
       "      <th>qt</th>\n",
       "      <th>pt</th>\n",
       "      <th>dt</th>\n",
       "      <th>bt</th>\n",
       "      <th>at</th>\n",
       "    </tr>\n",
       "  </thead>\n",
       "  <tbody>\n",
       "    <tr>\n",
       "      <th>0</th>\n",
       "      <td>09:06:04</td>\n",
       "      <td>20</td>\n",
       "      <td>66.7000</td>\n",
       "      <td>-1</td>\n",
       "      <td>66.90</td>\n",
       "      <td>67.00</td>\n",
       "    </tr>\n",
       "    <tr>\n",
       "      <th>1</th>\n",
       "      <td>09:06:11</td>\n",
       "      <td>25</td>\n",
       "      <td>66.6360</td>\n",
       "      <td>-1</td>\n",
       "      <td>66.65</td>\n",
       "      <td>66.70</td>\n",
       "    </tr>\n",
       "    <tr>\n",
       "      <th>2</th>\n",
       "      <td>09:06:26</td>\n",
       "      <td>18</td>\n",
       "      <td>66.6000</td>\n",
       "      <td>-1</td>\n",
       "      <td>66.60</td>\n",
       "      <td>66.65</td>\n",
       "    </tr>\n",
       "    <tr>\n",
       "      <th>3</th>\n",
       "      <td>09:07:18</td>\n",
       "      <td>273</td>\n",
       "      <td>66.4163</td>\n",
       "      <td>-1</td>\n",
       "      <td>66.50</td>\n",
       "      <td>66.55</td>\n",
       "    </tr>\n",
       "    <tr>\n",
       "      <th>4</th>\n",
       "      <td>09:07:36</td>\n",
       "      <td>27</td>\n",
       "      <td>66.5500</td>\n",
       "      <td>1</td>\n",
       "      <td>66.15</td>\n",
       "      <td>66.55</td>\n",
       "    </tr>\n",
       "  </tbody>\n",
       "</table>\n",
       "</div>"
      ],
      "text/plain": [
       "       time   qt       pt  dt     bt     at\n",
       "0  09:06:04   20  66.7000  -1  66.90  67.00\n",
       "1  09:06:11   25  66.6360  -1  66.65  66.70\n",
       "2  09:06:26   18  66.6000  -1  66.60  66.65\n",
       "3  09:07:18  273  66.4163  -1  66.50  66.55\n",
       "4  09:07:36   27  66.5500   1  66.15  66.55"
      ]
     },
     "execution_count": 51,
     "metadata": {},
     "output_type": "execute_result"
    }
   ],
   "source": [
    "agf.head()"
   ]
  },
  {
   "cell_type": "code",
   "execution_count": 52,
   "metadata": {},
   "outputs": [],
   "source": [
    "agf['time']='2001-03-26 '+agf['time'].astype(str)\n",
    "agf['time']=pd.to_datetime(agf['time'])"
   ]
  },
  {
   "cell_type": "code",
   "execution_count": null,
   "metadata": {},
   "outputs": [],
   "source": [
    "\n"
   ]
  },
  {
   "attachments": {},
   "cell_type": "markdown",
   "metadata": {},
   "source": [
    "problem a."
   ]
  },
  {
   "cell_type": "code",
   "execution_count": 53,
   "metadata": {},
   "outputs": [],
   "source": [
    "agf['mt']=(agf['at']+agf['bt'])/2\n",
    "agf['abs_s']=agf['at']-agf['bt']\n",
    "agf['log_s']=np.log(agf['at'])-np.log(agf['bt'])\n",
    "agf['rel_s']=2*agf['abs_s']/(agf['at']+agf['bt'])\n",
    "\n"
   ]
  },
  {
   "cell_type": "code",
   "execution_count": 54,
   "metadata": {},
   "outputs": [
    {
     "data": {
      "text/plain": [
       "Text(0, 0.5, 'Spread')"
      ]
     },
     "execution_count": 54,
     "metadata": {},
     "output_type": "execute_result"
    },
    {
     "data": {
      "image/png": "[encoded data removed]",
      "text/plain": [
       "<Figure size 1000x600 with 1 Axes>"
      ]
     },
     "metadata": {},
     "output_type": "display_data"
    }
   ],
   "source": [
    "import matplotlib.pyplot as plt\n",
    "agf['time_bin'] = agf.time.dt.floor('30min')\n",
    "agf[['time_bin','abs_s']].groupby('time_bin').mean().plot(figsize=(10,6), title='Average Absolute Spread for each 30 minutes')\n",
    "plt.legend(['Average absolute spread'])\n",
    "plt.xlabel('Time')\n",
    "plt.ylabel('Spread')"
   ]
  },
  {
   "cell_type": "code",
   "execution_count": 55,
   "metadata": {},
   "outputs": [],
   "source": [
    "agf.set_index('time',inplace=True)"
   ]
  },
  {
   "attachments": {},
   "cell_type": "markdown",
   "metadata": {},
   "source": [
    "problem b."
   ]
  },
  {
   "cell_type": "code",
   "execution_count": 56,
   "metadata": {},
   "outputs": [
    {
     "name": "stderr",
     "output_type": "stream",
     "text": [
      "C:\\Users\\kangmin\\AppData\\Local\\Temp\\ipykernel_3060\\4288970701.py:4: FutureWarning: DataFrame.mean and DataFrame.median with numeric_only=None will include datetime64 and datetime64tz columns in a future version.\n",
      "  agf.mean()\n"
     ]
    },
    {
     "data": {
      "text/plain": [
       "qt        580.483622\n",
       "pt         66.016489\n",
       "dt         -0.055877\n",
       "bt         65.967245\n",
       "at         66.073410\n",
       "mt         66.020328\n",
       "abs_s       0.106166\n",
       "log_s       0.001609\n",
       "rel_s       0.001609\n",
       "abs_hs      0.059170\n",
       "rel_hs      0.000897\n",
       "log_hs      0.000897\n",
       "dtype: float64"
      ]
     },
     "execution_count": 56,
     "metadata": {},
     "output_type": "execute_result"
    }
   ],
   "source": [
    "agf['abs_hs']=agf['dt']*(agf['pt']-agf['mt'])\n",
    "agf['rel_hs']=agf['abs_hs']/agf['mt']\n",
    "agf['log_hs']=agf['dt']*(np.log(agf['pt'])-np.log(agf['mt']))\n",
    "agf.mean()"
   ]
  },
  {
   "attachments": {},
   "cell_type": "markdown",
   "metadata": {},
   "source": [
    "problem c."
   ]
  },
  {
   "cell_type": "code",
   "execution_count": 57,
   "metadata": {},
   "outputs": [
    {
     "name": "stdout",
     "output_type": "stream",
     "text": [
      "65.97625925897279\n"
     ]
    }
   ],
   "source": [
    "from datetime import datetime,timedelta\n",
    "print(sum(agf['qt']*agf['pt'])/sum(agf['qt']))\n",
    "agf_1=agf[agf.index<datetime(2001,3,26,12,00,00,00)]\n",
    "agf_2=agf[(agf.index<datetime(2001,3,26,15,00,00,00)) & (agf.index>=datetime(2001,3,26,12,00,00,00))]\n",
    "agf_3=agf[(agf.index<datetime(2001,3,26,17,30,00,00)) & (agf.index>=datetime(2001,3,26,15,00,00,00))]"
   ]
  },
  {
   "cell_type": "code",
   "execution_count": 58,
   "metadata": {},
   "outputs": [
    {
     "data": {
      "text/plain": [
       "(66.00037952521805, 66.05732484327085, 65.93996300616958)"
      ]
     },
     "execution_count": 58,
     "metadata": {},
     "output_type": "execute_result"
    }
   ],
   "source": [
    "sum(agf_1['qt']*agf_1['pt'])/sum(agf_1['qt']),sum(agf_2['qt']*agf_2['pt'])/sum(agf_2['qt']),sum(agf_3['qt']*agf_3['pt'])/sum(agf_3['qt'])"
   ]
  },
  {
   "attachments": {},
   "cell_type": "markdown",
   "metadata": {},
   "source": [
    "problem d."
   ]
  },
  {
   "cell_type": "code",
   "execution_count": 59,
   "metadata": {},
   "outputs": [
    {
     "data": {
      "text/html": [
       "<div>\n",
       "<style scoped>\n",
       "    .dataframe tbody tr th:only-of-type {\n",
       "        vertical-align: middle;\n",
       "    }\n",
       "\n",
       "    .dataframe tbody tr th {\n",
       "        vertical-align: top;\n",
       "    }\n",
       "\n",
       "    .dataframe thead th {\n",
       "        text-align: right;\n",
       "    }\n",
       "</style>\n",
       "<table border=\"1\" class=\"dataframe\">\n",
       "  <thead>\n",
       "    <tr style=\"text-align: right;\">\n",
       "      <th></th>\n",
       "      <th>qt</th>\n",
       "      <th>pt</th>\n",
       "      <th>dt</th>\n",
       "      <th>bt</th>\n",
       "      <th>at</th>\n",
       "      <th>mt</th>\n",
       "      <th>abs_s</th>\n",
       "      <th>log_s</th>\n",
       "      <th>rel_s</th>\n",
       "      <th>time_bin</th>\n",
       "      <th>abs_hs</th>\n",
       "      <th>rel_hs</th>\n",
       "      <th>log_hs</th>\n",
       "      <th>roll_pt</th>\n",
       "      <th>rel_roll_s</th>\n",
       "      <th>log_pt</th>\n",
       "    </tr>\n",
       "    <tr>\n",
       "      <th>time</th>\n",
       "      <th></th>\n",
       "      <th></th>\n",
       "      <th></th>\n",
       "      <th></th>\n",
       "      <th></th>\n",
       "      <th></th>\n",
       "      <th></th>\n",
       "      <th></th>\n",
       "      <th></th>\n",
       "      <th></th>\n",
       "      <th></th>\n",
       "      <th></th>\n",
       "      <th></th>\n",
       "      <th></th>\n",
       "      <th></th>\n",
       "      <th></th>\n",
       "    </tr>\n",
       "  </thead>\n",
       "  <tbody>\n",
       "    <tr>\n",
       "      <th>2001-03-26 09:06:04</th>\n",
       "      <td>20</td>\n",
       "      <td>66.70000</td>\n",
       "      <td>-1</td>\n",
       "      <td>66.90</td>\n",
       "      <td>67.00</td>\n",
       "      <td>66.950</td>\n",
       "      <td>0.10</td>\n",
       "      <td>0.001494</td>\n",
       "      <td>0.001494</td>\n",
       "      <td>2001-03-26 09:00:00</td>\n",
       "      <td>0.25000</td>\n",
       "      <td>0.003734</td>\n",
       "      <td>0.003741</td>\n",
       "      <td>66.90</td>\n",
       "      <td>4.203199</td>\n",
       "      <td>4.200205</td>\n",
       "    </tr>\n",
       "    <tr>\n",
       "      <th>2001-03-26 09:06:11</th>\n",
       "      <td>25</td>\n",
       "      <td>66.63600</td>\n",
       "      <td>-1</td>\n",
       "      <td>66.65</td>\n",
       "      <td>66.70</td>\n",
       "      <td>66.675</td>\n",
       "      <td>0.05</td>\n",
       "      <td>0.000750</td>\n",
       "      <td>0.000750</td>\n",
       "      <td>2001-03-26 09:00:00</td>\n",
       "      <td>0.03900</td>\n",
       "      <td>0.000585</td>\n",
       "      <td>0.000585</td>\n",
       "      <td>66.65</td>\n",
       "      <td>4.199455</td>\n",
       "      <td>4.199245</td>\n",
       "    </tr>\n",
       "    <tr>\n",
       "      <th>2001-03-26 09:06:26</th>\n",
       "      <td>18</td>\n",
       "      <td>66.60000</td>\n",
       "      <td>-1</td>\n",
       "      <td>66.60</td>\n",
       "      <td>66.65</td>\n",
       "      <td>66.625</td>\n",
       "      <td>0.05</td>\n",
       "      <td>0.000750</td>\n",
       "      <td>0.000750</td>\n",
       "      <td>2001-03-26 09:00:00</td>\n",
       "      <td>0.02500</td>\n",
       "      <td>0.000375</td>\n",
       "      <td>0.000375</td>\n",
       "      <td>66.60</td>\n",
       "      <td>4.198705</td>\n",
       "      <td>4.198705</td>\n",
       "    </tr>\n",
       "    <tr>\n",
       "      <th>2001-03-26 09:07:18</th>\n",
       "      <td>273</td>\n",
       "      <td>66.41630</td>\n",
       "      <td>-1</td>\n",
       "      <td>66.50</td>\n",
       "      <td>66.55</td>\n",
       "      <td>66.525</td>\n",
       "      <td>0.05</td>\n",
       "      <td>0.000752</td>\n",
       "      <td>0.000752</td>\n",
       "      <td>2001-03-26 09:00:00</td>\n",
       "      <td>0.10870</td>\n",
       "      <td>0.001634</td>\n",
       "      <td>0.001635</td>\n",
       "      <td>66.50</td>\n",
       "      <td>4.197202</td>\n",
       "      <td>4.195943</td>\n",
       "    </tr>\n",
       "    <tr>\n",
       "      <th>2001-03-26 09:07:36</th>\n",
       "      <td>27</td>\n",
       "      <td>66.55000</td>\n",
       "      <td>1</td>\n",
       "      <td>66.15</td>\n",
       "      <td>66.55</td>\n",
       "      <td>66.350</td>\n",
       "      <td>0.40</td>\n",
       "      <td>0.006029</td>\n",
       "      <td>0.006029</td>\n",
       "      <td>2001-03-26 09:00:00</td>\n",
       "      <td>0.20000</td>\n",
       "      <td>0.003014</td>\n",
       "      <td>0.003010</td>\n",
       "      <td>66.55</td>\n",
       "      <td>4.197958</td>\n",
       "      <td>4.197954</td>\n",
       "    </tr>\n",
       "    <tr>\n",
       "      <th>...</th>\n",
       "      <td>...</td>\n",
       "      <td>...</td>\n",
       "      <td>...</td>\n",
       "      <td>...</td>\n",
       "      <td>...</td>\n",
       "      <td>...</td>\n",
       "      <td>...</td>\n",
       "      <td>...</td>\n",
       "      <td>...</td>\n",
       "      <td>...</td>\n",
       "      <td>...</td>\n",
       "      <td>...</td>\n",
       "      <td>...</td>\n",
       "      <td>...</td>\n",
       "      <td>...</td>\n",
       "      <td>...</td>\n",
       "    </tr>\n",
       "    <tr>\n",
       "      <th>2001-03-26 17:22:56</th>\n",
       "      <td>1000</td>\n",
       "      <td>66.74765</td>\n",
       "      <td>1</td>\n",
       "      <td>66.60</td>\n",
       "      <td>66.70</td>\n",
       "      <td>66.650</td>\n",
       "      <td>0.10</td>\n",
       "      <td>0.001500</td>\n",
       "      <td>0.001500</td>\n",
       "      <td>2001-03-26 17:00:00</td>\n",
       "      <td>0.09765</td>\n",
       "      <td>0.001465</td>\n",
       "      <td>0.001464</td>\n",
       "      <td>66.70</td>\n",
       "      <td>4.200205</td>\n",
       "      <td>4.200919</td>\n",
       "    </tr>\n",
       "    <tr>\n",
       "      <th>2001-03-26 17:23:28</th>\n",
       "      <td>1500</td>\n",
       "      <td>66.65000</td>\n",
       "      <td>-1</td>\n",
       "      <td>66.60</td>\n",
       "      <td>66.75</td>\n",
       "      <td>66.675</td>\n",
       "      <td>0.15</td>\n",
       "      <td>0.002250</td>\n",
       "      <td>0.002250</td>\n",
       "      <td>2001-03-26 17:00:00</td>\n",
       "      <td>0.02500</td>\n",
       "      <td>0.000375</td>\n",
       "      <td>0.000375</td>\n",
       "      <td>66.60</td>\n",
       "      <td>4.198705</td>\n",
       "      <td>4.199455</td>\n",
       "    </tr>\n",
       "    <tr>\n",
       "      <th>2001-03-26 17:24:48</th>\n",
       "      <td>47</td>\n",
       "      <td>66.75000</td>\n",
       "      <td>1</td>\n",
       "      <td>66.65</td>\n",
       "      <td>66.75</td>\n",
       "      <td>66.700</td>\n",
       "      <td>0.10</td>\n",
       "      <td>0.001499</td>\n",
       "      <td>0.001499</td>\n",
       "      <td>2001-03-26 17:00:00</td>\n",
       "      <td>0.05000</td>\n",
       "      <td>0.000750</td>\n",
       "      <td>0.000749</td>\n",
       "      <td>66.75</td>\n",
       "      <td>4.200955</td>\n",
       "      <td>4.200954</td>\n",
       "    </tr>\n",
       "    <tr>\n",
       "      <th>2001-03-26 17:24:49</th>\n",
       "      <td>237</td>\n",
       "      <td>66.75000</td>\n",
       "      <td>1</td>\n",
       "      <td>66.65</td>\n",
       "      <td>66.75</td>\n",
       "      <td>66.700</td>\n",
       "      <td>0.10</td>\n",
       "      <td>0.001499</td>\n",
       "      <td>0.001499</td>\n",
       "      <td>2001-03-26 17:00:00</td>\n",
       "      <td>0.05000</td>\n",
       "      <td>0.000750</td>\n",
       "      <td>0.000749</td>\n",
       "      <td>66.75</td>\n",
       "      <td>4.200955</td>\n",
       "      <td>4.200954</td>\n",
       "    </tr>\n",
       "    <tr>\n",
       "      <th>2001-03-26 17:24:59</th>\n",
       "      <td>237</td>\n",
       "      <td>66.75000</td>\n",
       "      <td>1</td>\n",
       "      <td>66.65</td>\n",
       "      <td>66.75</td>\n",
       "      <td>66.700</td>\n",
       "      <td>0.10</td>\n",
       "      <td>0.001499</td>\n",
       "      <td>0.001499</td>\n",
       "      <td>2001-03-26 17:00:00</td>\n",
       "      <td>0.05000</td>\n",
       "      <td>0.000750</td>\n",
       "      <td>0.000749</td>\n",
       "      <td>66.75</td>\n",
       "      <td>4.200955</td>\n",
       "      <td>4.200954</td>\n",
       "    </tr>\n",
       "  </tbody>\n",
       "</table>\n",
       "<p>519 rows × 16 columns</p>\n",
       "</div>"
      ],
      "text/plain": [
       "                       qt        pt  dt     bt     at      mt  abs_s  \\\n",
       "time                                                                   \n",
       "2001-03-26 09:06:04    20  66.70000  -1  66.90  67.00  66.950   0.10   \n",
       "2001-03-26 09:06:11    25  66.63600  -1  66.65  66.70  66.675   0.05   \n",
       "2001-03-26 09:06:26    18  66.60000  -1  66.60  66.65  66.625   0.05   \n",
       "2001-03-26 09:07:18   273  66.41630  -1  66.50  66.55  66.525   0.05   \n",
       "2001-03-26 09:07:36    27  66.55000   1  66.15  66.55  66.350   0.40   \n",
       "...                   ...       ...  ..    ...    ...     ...    ...   \n",
       "2001-03-26 17:22:56  1000  66.74765   1  66.60  66.70  66.650   0.10   \n",
       "2001-03-26 17:23:28  1500  66.65000  -1  66.60  66.75  66.675   0.15   \n",
       "2001-03-26 17:24:48    47  66.75000   1  66.65  66.75  66.700   0.10   \n",
       "2001-03-26 17:24:49   237  66.75000   1  66.65  66.75  66.700   0.10   \n",
       "2001-03-26 17:24:59   237  66.75000   1  66.65  66.75  66.700   0.10   \n",
       "\n",
       "                        log_s     rel_s            time_bin   abs_hs  \\\n",
       "time                                                                   \n",
       "2001-03-26 09:06:04  0.001494  0.001494 2001-03-26 09:00:00  0.25000   \n",
       "2001-03-26 09:06:11  0.000750  0.000750 2001-03-26 09:00:00  0.03900   \n",
       "2001-03-26 09:06:26  0.000750  0.000750 2001-03-26 09:00:00  0.02500   \n",
       "2001-03-26 09:07:18  0.000752  0.000752 2001-03-26 09:00:00  0.10870   \n",
       "2001-03-26 09:07:36  0.006029  0.006029 2001-03-26 09:00:00  0.20000   \n",
       "...                       ...       ...                 ...      ...   \n",
       "2001-03-26 17:22:56  0.001500  0.001500 2001-03-26 17:00:00  0.09765   \n",
       "2001-03-26 17:23:28  0.002250  0.002250 2001-03-26 17:00:00  0.02500   \n",
       "2001-03-26 17:24:48  0.001499  0.001499 2001-03-26 17:00:00  0.05000   \n",
       "2001-03-26 17:24:49  0.001499  0.001499 2001-03-26 17:00:00  0.05000   \n",
       "2001-03-26 17:24:59  0.001499  0.001499 2001-03-26 17:00:00  0.05000   \n",
       "\n",
       "                       rel_hs    log_hs  roll_pt  rel_roll_s    log_pt  \n",
       "time                                                                    \n",
       "2001-03-26 09:06:04  0.003734  0.003741    66.90    4.203199  4.200205  \n",
       "2001-03-26 09:06:11  0.000585  0.000585    66.65    4.199455  4.199245  \n",
       "2001-03-26 09:06:26  0.000375  0.000375    66.60    4.198705  4.198705  \n",
       "2001-03-26 09:07:18  0.001634  0.001635    66.50    4.197202  4.195943  \n",
       "2001-03-26 09:07:36  0.003014  0.003010    66.55    4.197958  4.197954  \n",
       "...                       ...       ...      ...         ...       ...  \n",
       "2001-03-26 17:22:56  0.001465  0.001464    66.70    4.200205  4.200919  \n",
       "2001-03-26 17:23:28  0.000375  0.000375    66.60    4.198705  4.199455  \n",
       "2001-03-26 17:24:48  0.000750  0.000749    66.75    4.200955  4.200954  \n",
       "2001-03-26 17:24:49  0.000750  0.000749    66.75    4.200955  4.200954  \n",
       "2001-03-26 17:24:59  0.000750  0.000749    66.75    4.200955  4.200954  \n",
       "\n",
       "[519 rows x 16 columns]"
      ]
     },
     "execution_count": 59,
     "metadata": {},
     "output_type": "execute_result"
    }
   ],
   "source": [
    "agf['roll_pt']=agf['abs_s']*agf['dt']/2+agf['mt']\n",
    "agf['rel_roll_s']=(agf['rel_s']*agf['dt']/2)+np.log(agf['mt'])\n",
    "agf['log_pt']=np.log(agf['pt'])\n",
    "agf"
   ]
  },
  {
   "cell_type": "code",
   "execution_count": 74,
   "metadata": {},
   "outputs": [
    {
     "data": {
      "text/html": [
       "<div>\n",
       "<style scoped>\n",
       "    .dataframe tbody tr th:only-of-type {\n",
       "        vertical-align: middle;\n",
       "    }\n",
       "\n",
       "    .dataframe tbody tr th {\n",
       "        vertical-align: top;\n",
       "    }\n",
       "\n",
       "    .dataframe thead th {\n",
       "        text-align: right;\n",
       "    }\n",
       "</style>\n",
       "<table border=\"1\" class=\"dataframe\">\n",
       "  <thead>\n",
       "    <tr style=\"text-align: right;\">\n",
       "      <th></th>\n",
       "      <th>dp</th>\n",
       "      <th>dp1</th>\n",
       "    </tr>\n",
       "    <tr>\n",
       "      <th>time</th>\n",
       "      <th></th>\n",
       "      <th></th>\n",
       "    </tr>\n",
       "  </thead>\n",
       "  <tbody>\n",
       "    <tr>\n",
       "      <th>2001-03-26 09:06:26</th>\n",
       "      <td>-0.000540</td>\n",
       "      <td>-0.000960</td>\n",
       "    </tr>\n",
       "    <tr>\n",
       "      <th>2001-03-26 09:07:18</th>\n",
       "      <td>-0.002762</td>\n",
       "      <td>-0.000540</td>\n",
       "    </tr>\n",
       "    <tr>\n",
       "      <th>2001-03-26 09:07:36</th>\n",
       "      <td>0.002011</td>\n",
       "      <td>-0.002762</td>\n",
       "    </tr>\n",
       "    <tr>\n",
       "      <th>2001-03-26 09:18:03</th>\n",
       "      <td>-0.004518</td>\n",
       "      <td>0.002011</td>\n",
       "    </tr>\n",
       "    <tr>\n",
       "      <th>2001-03-26 09:19:37</th>\n",
       "      <td>-0.000755</td>\n",
       "      <td>-0.004518</td>\n",
       "    </tr>\n",
       "    <tr>\n",
       "      <th>...</th>\n",
       "      <td>...</td>\n",
       "      <td>...</td>\n",
       "    </tr>\n",
       "    <tr>\n",
       "      <th>2001-03-26 17:22:56</th>\n",
       "      <td>0.002215</td>\n",
       "      <td>0.000000</td>\n",
       "    </tr>\n",
       "    <tr>\n",
       "      <th>2001-03-26 17:23:28</th>\n",
       "      <td>-0.001464</td>\n",
       "      <td>0.002215</td>\n",
       "    </tr>\n",
       "    <tr>\n",
       "      <th>2001-03-26 17:24:48</th>\n",
       "      <td>0.001499</td>\n",
       "      <td>-0.001464</td>\n",
       "    </tr>\n",
       "    <tr>\n",
       "      <th>2001-03-26 17:24:49</th>\n",
       "      <td>0.000000</td>\n",
       "      <td>0.001499</td>\n",
       "    </tr>\n",
       "    <tr>\n",
       "      <th>2001-03-26 17:24:59</th>\n",
       "      <td>0.000000</td>\n",
       "      <td>0.000000</td>\n",
       "    </tr>\n",
       "  </tbody>\n",
       "</table>\n",
       "<p>517 rows × 2 columns</p>\n",
       "</div>"
      ],
      "text/plain": [
       "                           dp       dp1\n",
       "time                                   \n",
       "2001-03-26 09:06:26 -0.000540 -0.000960\n",
       "2001-03-26 09:07:18 -0.002762 -0.000540\n",
       "2001-03-26 09:07:36  0.002011 -0.002762\n",
       "2001-03-26 09:18:03 -0.004518  0.002011\n",
       "2001-03-26 09:19:37 -0.000755 -0.004518\n",
       "...                       ...       ...\n",
       "2001-03-26 17:22:56  0.002215  0.000000\n",
       "2001-03-26 17:23:28 -0.001464  0.002215\n",
       "2001-03-26 17:24:48  0.001499 -0.001464\n",
       "2001-03-26 17:24:49  0.000000  0.001499\n",
       "2001-03-26 17:24:59  0.000000  0.000000\n",
       "\n",
       "[517 rows x 2 columns]"
      ]
     },
     "execution_count": 74,
     "metadata": {},
     "output_type": "execute_result"
    }
   ],
   "source": [
    "agf['dp'] = np.log(agf['pt']).diff(1)\n",
    "agf['dp1'] = agf['dp'].shift(1)\n",
    "dp = agf[['dp', 'dp1']].dropna()\n",
    "# roll's estimator\n",
    "# if the covariance is negative, the estimator is 2*sqrt(-covariance)\n",
    "# if the covariance is positive, the estimator is nan\n",
    "def roll_estimator(ts0, ts1):\n",
    "    if np.cov(ts0, ts1)[0,1] < 0:\n",
    "        roll = 2*np.sqrt(-np.cov(ts0, ts1)[0,1])\n",
    "    else :\n",
    "        roll = np.nan\n",
    "    return roll\n",
    "roll_tick = roll_estimator(dp['dp'], dp['dp1'])\n",
    "dp"
   ]
  },
  {
   "cell_type": "code",
   "execution_count": 71,
   "metadata": {},
   "outputs": [
    {
     "name": "stdout",
     "output_type": "stream",
     "text": [
      "                               time_bin        pt  dt\n",
      "time                                                 \n",
      "2001-03-26 09:26:26 2001-03-26 09:00:00  66.20000   1\n",
      "2001-03-26 09:59:48 2001-03-26 09:30:00  66.15000   1\n",
      "2001-03-26 10:27:06 2001-03-26 10:00:00  65.90000   1\n",
      "2001-03-26 10:59:16 2001-03-26 10:30:00  65.50000  -1\n",
      "2001-03-26 11:29:50 2001-03-26 11:00:00  66.30000   1\n",
      "2001-03-26 11:59:37 2001-03-26 11:30:00  66.00000  -1\n",
      "2001-03-26 12:28:13 2001-03-26 12:00:00  66.00000  -1\n",
      "2001-03-26 12:59:52 2001-03-26 12:30:00  66.19964   1\n",
      "2001-03-26 13:29:03 2001-03-26 13:00:00  65.80000   1\n",
      "2001-03-26 13:58:19 2001-03-26 13:30:00  66.10000  -1\n",
      "2001-03-26 14:29:25 2001-03-26 14:00:00  66.00000  -1\n",
      "2001-03-26 14:59:00 2001-03-26 14:30:00  66.25000   1\n",
      "2001-03-26 15:29:25 2001-03-26 15:00:00  66.10000  -1\n",
      "2001-03-26 15:59:39 2001-03-26 15:30:00  65.70000   1\n",
      "2001-03-26 16:26:58 2001-03-26 16:00:00  65.95000  -1\n",
      "2001-03-26 16:59:36 2001-03-26 16:30:00  65.70433  -1\n",
      "2001-03-26 17:24:59 2001-03-26 17:00:00  66.75000   1\n",
      "roll estimator 0.00841660620246218\n"
     ]
    },
    {
     "name": "stderr",
     "output_type": "stream",
     "text": [
      "C:\\Users\\kangmin\\AppData\\Local\\Temp\\ipykernel_3060\\1188312322.py:1: FutureWarning: Indexing with multiple keys (implicitly converted to a tuple of keys) will be deprecated, use a list instead.\n",
      "  price_15 = agf.groupby('time_bin')['time_bin', 'pt', 'dt'].tail(1)\n"
     ]
    }
   ],
   "source": [
    "price_15 = agf.groupby('time_bin')['time_bin', 'pt', 'dt'].tail(1)\n",
    "print(price_15)\n",
    "price_15['log_price'] = np.log(price_15['pt'])\n",
    "price_15['dp'] = price_15['log_price'].diff(1)\n",
    "price_15['dp1'] = price_15['dp'].shift(1)\n",
    "dp_15 = price_15[['dp', 'dp1']].dropna()\n",
    "roll_15 = roll_estimator(dp_15['dp'], dp_15['dp1'])\n",
    "print('roll estimator', roll_15)"
   ]
  },
  {
   "attachments": {},
   "cell_type": "markdown",
   "metadata": {},
   "source": [
    "problem e."
   ]
  },
  {
   "cell_type": "code",
   "execution_count": 75,
   "metadata": {},
   "outputs": [
    {
     "data": {
      "text/plain": [
       "time\n",
       "2001-03-26 09:00:00   -0.009002\n",
       "2001-03-26 09:15:00   -0.003021\n",
       "2001-03-26 09:30:00   -0.002271\n",
       "2001-03-26 09:45:00    0.002651\n",
       "2001-03-26 10:00:00   -0.001134\n",
       "2001-03-26 10:15:00   -0.006450\n",
       "2001-03-26 10:30:00   -0.000381\n",
       "2001-03-26 10:45:00   -0.001525\n",
       "2001-03-26 11:00:00    0.000381\n",
       "2001-03-26 11:15:00    0.011004\n",
       "2001-03-26 11:30:00    0.003390\n",
       "2001-03-26 11:45:00   -0.006414\n",
       "2001-03-26 12:00:00   -0.003410\n",
       "2001-03-26 12:15:00    0.006433\n",
       "2001-03-26 12:30:00   -0.001885\n",
       "2001-03-26 12:45:00   -0.003776\n",
       "2001-03-26 13:00:00   -0.002269\n",
       "2001-03-26 13:15:00   -0.003414\n",
       "2001-03-26 13:30:00    0.002278\n",
       "2001-03-26 13:45:00    0.003784\n",
       "2001-03-26 14:00:00   -0.000758\n",
       "2001-03-26 14:15:00    0.000379\n",
       "2001-03-26 14:30:00    0.000379\n",
       "2001-03-26 14:45:00    0.002268\n",
       "2001-03-26 15:00:00   -0.001133\n",
       "2001-03-26 15:15:00   -0.000378\n",
       "2001-03-26 15:30:00   -0.001513\n",
       "2001-03-26 15:45:00   -0.005315\n",
       "2001-03-26 16:00:00    0.005311\n",
       "2001-03-26 16:15:00    0.000379\n",
       "2001-03-26 16:30:00    0.000757\n",
       "2001-03-26 16:45:00   -0.002657\n",
       "2001-03-26 17:00:00    0.003797\n",
       "2001-03-26 17:15:00    0.009036\n",
       "Freq: 15T, Name: mt, dtype: float64"
      ]
     },
     "execution_count": 75,
     "metadata": {},
     "output_type": "execute_result"
    }
   ],
   "source": [
    "agf['mt']=np.log(agf['mt'])\n",
    "agf_15T_mt=agf.resample('15T').last()['mt']-agf.resample('15T').first()['mt']\n",
    "agf_15T_mt"
   ]
  },
  {
   "cell_type": "code",
   "execution_count": 61,
   "metadata": {},
   "outputs": [],
   "source": [
    "#agf['dt'].apply(lambda x: 0 if x==-1 else x).resample('15T').sum().cumsum()/agf['dt'].resample('15T').count().cumsum()"
   ]
  },
  {
   "cell_type": "code",
   "execution_count": 76,
   "metadata": {},
   "outputs": [
    {
     "data": {
      "text/plain": [
       "time\n",
       "2001-03-26 09:00:00   -2.053350e+04\n",
       "2001-03-26 09:15:00    2.873725e+04\n",
       "2001-03-26 09:30:00   -1.273585e+05\n",
       "2001-03-26 09:45:00    1.260441e+05\n",
       "2001-03-26 10:00:00    1.418119e+05\n",
       "2001-03-26 10:15:00   -1.648993e+05\n",
       "2001-03-26 10:30:00   -1.921393e+05\n",
       "2001-03-26 10:45:00   -1.981680e+05\n",
       "2001-03-26 11:00:00    1.279013e+05\n",
       "2001-03-26 11:15:00    1.824084e+05\n",
       "2001-03-26 11:30:00    5.060963e+05\n",
       "2001-03-26 11:45:00   -2.898977e+05\n",
       "2001-03-26 12:00:00    2.179553e+05\n",
       "2001-03-26 12:15:00    2.363121e+05\n",
       "2001-03-26 12:30:00    4.077990e+04\n",
       "2001-03-26 12:45:00   -2.362265e+04\n",
       "2001-03-26 13:00:00   -4.783892e+05\n",
       "2001-03-26 13:15:00   -2.281795e+05\n",
       "2001-03-26 13:30:00    3.982025e+05\n",
       "2001-03-26 13:45:00    1.435095e+04\n",
       "2001-03-26 14:00:00   -1.004451e+05\n",
       "2001-03-26 14:15:00    3.748384e+05\n",
       "2001-03-26 14:30:00   -1.913421e+05\n",
       "2001-03-26 14:45:00    3.328608e+05\n",
       "2001-03-26 15:00:00   -6.354565e+04\n",
       "2001-03-26 15:15:00    2.346378e+05\n",
       "2001-03-26 15:30:00   -1.302566e+06\n",
       "2001-03-26 15:45:00   -8.288969e+05\n",
       "2001-03-26 16:00:00    3.866434e+05\n",
       "2001-03-26 16:15:00   -2.197815e+05\n",
       "2001-03-26 16:30:00   -1.102316e+06\n",
       "2001-03-26 16:45:00   -1.831340e+06\n",
       "2001-03-26 17:00:00    3.085270e+05\n",
       "2001-03-26 17:15:00    9.077135e+05\n",
       "Freq: 15T, dtype: float64"
      ]
     },
     "execution_count": 76,
     "metadata": {},
     "output_type": "execute_result"
    }
   ],
   "source": [
    "agf_15T_oi=agf.resample('15T').apply(lambda df,a,b,c:sum(df[a]*df[b]*df[c]),'qt','pt','dt' )\n",
    "agf_15T_oi"
   ]
  },
  {
   "cell_type": "code",
   "execution_count": 77,
   "metadata": {},
   "outputs": [
    {
     "data": {
      "text/plain": [
       "3.608143520800463e-09"
      ]
     },
     "execution_count": 77,
     "metadata": {},
     "output_type": "execute_result"
    }
   ],
   "source": [
    "b2=sum((agf_15T_mt-agf_15T_mt.mean())*(agf_15T_oi-agf_15T_oi.mean()))/sum((agf_15T_oi-agf_15T_oi.mean())*(agf_15T_oi-agf_15T_oi.mean()))\n",
    "b2"
   ]
  },
  {
   "cell_type": "code",
   "execution_count": 78,
   "metadata": {},
   "outputs": [
    {
     "data": {
      "text/plain": [
       "0.005612076208915635"
      ]
     },
     "execution_count": 78,
     "metadata": {},
     "output_type": "execute_result"
    }
   ],
   "source": [
    "b1=sum(agf_15T_mt)-b2*sum(agf_15T_oi)\n",
    "b1"
   ]
  }
 ],
 "metadata": {
  "kernelspec": {
   "display_name": "Upbitapi",
   "language": "python",
   "name": "python3"
  },
  "language_info": {
   "codemirror_mode": {
    "name": "ipython",
    "version": 3
   },
   "file_extension": ".py",
   "mimetype": "text/x-python",
   "name": "python",
   "nbconvert_exporter": "python",
   "pygments_lexer": "ipython3",
   "version": "3.10.8"
  },
  "orig_nbformat": 4,
  "vscode": {
   "interpreter": {
    "hash": "993d84a98b7cee82f1e563ac468960c470c7428729960f1d636e6fa521de2a86"
   }
  }
 },
 "nbformat": 4,
 "nbformat_minor": 2
}
