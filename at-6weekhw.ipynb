{
 "cells": [
  {
   "attachments": {},
   "cell_type": "markdown",
   "metadata": {},
   "source": [
    "![6week-1](https://github.com/km0313/q.t-marketmicrostructure-Market-Liquidity-Theory-evidence-policy-quiz-solution/blob/main/6week-1.jpg?raw=True)"
   ]
  },
  {
   "attachments": {},
   "cell_type": "markdown",
   "metadata": {},
   "source": [
    "![6week-2](https://github.com/km0313/q.t-marketmicrostructure-Market-Liquidity-Theory-evidence-policy-quiz-solution/blob/main/6week-2.jpg?raw=True)"
   ]
  },
  {
   "attachments": {},
   "cell_type": "markdown",
   "metadata": {},
   "source": [
    "![6week-3](https://github.com/km0313/q.t-marketmicrostructure-Market-Liquidity-Theory-evidence-policy-quiz-solution/blob/main/6week-3.jpg?raw=True)"
   ]
  },
  {
   "attachments": {},
   "cell_type": "markdown",
   "metadata": {},
   "source": [
    "problem 2는 손대지못했습니다;;;"
   ]
  },
  {
   "cell_type": "markdown",
   "metadata": {},
   "source": []
  }
 ],
 "metadata": {
  "language_info": {
   "name": "python"
  },
  "orig_nbformat": 4
 },
 "nbformat": 4,
 "nbformat_minor": 2
}
