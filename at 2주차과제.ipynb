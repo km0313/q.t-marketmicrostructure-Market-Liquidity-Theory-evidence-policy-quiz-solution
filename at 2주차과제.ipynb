{
 "cells": [
  {
   "attachments": {},
   "cell_type": "markdown",
   "metadata": {},
   "source": []
  }
 ],
 "metadata": {
  "kernelspec": {
   "display_name": "Upbitapi",
   "language": "python",
   "name": "python3"
  },
  "language_info": {
   "name": "python",
   "version": "3.10.8"
  },
  "orig_nbformat": 4,
  "vscode": {
   "interpreter": {
    "hash": "993d84a98b7cee82f1e563ac468960c470c7428729960f1d636e6fa521de2a86"
   }
  }
 },
 "nbformat": 4,
 "nbformat_minor": 2
}
