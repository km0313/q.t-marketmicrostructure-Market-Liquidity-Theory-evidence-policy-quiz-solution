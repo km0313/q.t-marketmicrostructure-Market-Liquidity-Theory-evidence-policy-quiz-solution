{
 "cells": [
  {
   "attachments": {},
   "cell_type": "markdown",
   "metadata": {},
   "source": [
    "![2주차2번](https://github.com/km0313/q.t-marketmicrostructure-Market-Liquidity-Theory-evidence-policy-quiz-solution/blob/main/2%EC%A3%BC%EC%B0%A82%EB%B2%88.jpg?raw=True)"
   ]
  },
  {
   "attachments": {},
   "cell_type": "markdown",
   "metadata": {},
   "source": [
    "![2주차4번](https://github.com/km0313/q.t-marketmicrostructure-Market-Liquidity-Theory-evidence-policy-quiz-solution/blob/main/2%EC%A3%BC%EC%B0%A84%EB%B2%88.jpg?raw=True)"
   ]
  },
  {
   "attachments": {},
   "cell_type": "markdown",
   "metadata": {},
   "source": [
    "![2주차4번-2](https://github.com/km0313/q.t-marketmicrostructure-Market-Liquidity-Theory-evidence-policy-quiz-solution/blob/main/2%EC%A3%BC%EC%B0%A84%EB%B2%88-2.jpg?raw=True)"
   ]
  },
  {
   "attachments": {},
   "cell_type": "markdown",
   "metadata": {},
   "source": [
    "![2주차8번](https://github.com/km0313/q.t-marketmicrostructure-Market-Liquidity-Theory-evidence-policy-quiz-solution/blob/main/2%EC%A3%BC%EC%B0%A88%EB%B2%88.jpg?raw=True)"
   ]
  },
  {
   "attachments": {},
   "cell_type": "markdown",
   "metadata": {},
   "source": [
    "![2주차8번-2](https://github.com/km0313/q.t-marketmicrostructure-Market-Liquidity-Theory-evidence-policy-quiz-solution/blob/main/2%EC%A3%BC%EC%B0%A88%EB%B2%88-2.jpg?raw=True)"
   ]
  },
  {
   "attachments": {},
   "cell_type": "markdown",
   "metadata": {},
   "source": [
    "![2주차8번-3](https://github.com/km0313/q.t-marketmicrostructure-Market-Liquidity-Theory-evidence-policy-quiz-solution/blob/main/2%EC%A3%BC%EC%B0%A88%EB%B2%88-3.jpg?raw=True)"
   ]
  },
  {
   "attachments": {},
   "cell_type": "markdown",
   "metadata": {},
   "source": [
    "![2주차8번-4](https://github.com/km0313/q.t-marketmicrostructure-Market-Liquidity-Theory-evidence-policy-quiz-solution/blob/main/2%EC%A3%BC%EC%B0%A88%EB%B2%88-4.jpg?raw=True)"
   ]
  },
  {
   "attachments": {},
   "cell_type": "markdown",
   "metadata": {},
   "source": [
    "![2주차9번](https://github.com/km0313/q.t-marketmicrostructure-Market-Liquidity-Theory-evidence-policy-quiz-solution/blob/main/2%EC%A3%BC%EC%B0%A89%EB%B2%88.jpg?raw=True)"
   ]
  },
  {
   "cell_type": "markdown",
   "metadata": {},
   "source": []
  }
 ],
 "metadata": {
  "kernelspec": {
   "display_name": "Upbitapi",
   "language": "python",
   "name": "python3"
  },
  "language_info": {
   "name": "python",
   "version": "3.10.8"
  },
  "orig_nbformat": 4,
  "vscode": {
   "interpreter": {
    "hash": "993d84a98b7cee82f1e563ac468960c470c7428729960f1d636e6fa521de2a86"
   }
  }
 },
 "nbformat": 4,
 "nbformat_minor": 2
}
